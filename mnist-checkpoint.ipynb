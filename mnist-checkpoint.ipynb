{
 "cells": [
  {
   "cell_type": "code",
   "execution_count": 50,
   "metadata": {},
   "outputs": [],
   "source": [
    "data_file=open(\"mnist_train_100.csv\", 'r')\n",
    "data_list=data_file.readlines()\n",
    "data_file.close()"
   ]
  },
  {
   "cell_type": "code",
   "execution_count": 51,
   "metadata": {},
   "outputs": [
    {
     "data": {
      "text/plain": [
       "100"
      ]
     },
     "execution_count": 51,
     "metadata": {},
     "output_type": "execute_result"
    }
   ],
   "source": [
    "len(data_list)"
   ]
  },
  {
   "cell_type": "code",
   "execution_count": 52,
   "metadata": {},
   "outputs": [
    {
     "data": {
      "text/plain": [
       "'5,0,0,0,0,0,0,0,0,0,0,0,0,0,0,0,0,0,0,0,0,0,0,0,0,0,0,0,0,0,0,0,0,0,0,0,0,0,0,0,0,0,0,0,0,0,0,0,0,0,0,0,0,0,0,0,0,0,0,0,0,0,0,0,0,0,0,0,0,0,0,0,0,0,0,0,0,0,0,0,0,0,0,0,0,0,0,0,0,0,0,0,0,0,0,0,0,0,0,0,0,0,0,0,0,0,0,0,0,0,0,0,0,0,0,0,0,0,0,0,0,0,0,0,0,0,0,0,0,0,0,0,0,0,0,0,0,0,0,0,0,0,0,0,0,0,0,0,0,0,0,0,0,3,18,18,18,126,136,175,26,166,255,247,127,0,0,0,0,0,0,0,0,0,0,0,0,30,36,94,154,170,253,253,253,253,253,225,172,253,242,195,64,0,0,0,0,0,0,0,0,0,0,0,49,238,253,253,253,253,253,253,253,253,251,93,82,82,56,39,0,0,0,0,0,0,0,0,0,0,0,0,18,219,253,253,253,253,253,198,182,247,241,0,0,0,0,0,0,0,0,0,0,0,0,0,0,0,0,0,0,80,156,107,253,253,205,11,0,43,154,0,0,0,0,0,0,0,0,0,0,0,0,0,0,0,0,0,0,0,14,1,154,253,90,0,0,0,0,0,0,0,0,0,0,0,0,0,0,0,0,0,0,0,0,0,0,0,0,0,139,253,190,2,0,0,0,0,0,0,0,0,0,0,0,0,0,0,0,0,0,0,0,0,0,0,0,0,11,190,253,70,0,0,0,0,0,0,0,0,0,0,0,0,0,0,0,0,0,0,0,0,0,0,0,0,0,35,241,225,160,108,1,0,0,0,0,0,0,0,0,0,0,0,0,0,0,0,0,0,0,0,0,0,0,0,81,240,253,253,119,25,0,0,0,0,0,0,0,0,0,0,0,0,0,0,0,0,0,0,0,0,0,0,0,45,186,253,253,150,27,0,0,0,0,0,0,0,0,0,0,0,0,0,0,0,0,0,0,0,0,0,0,0,16,93,252,253,187,0,0,0,0,0,0,0,0,0,0,0,0,0,0,0,0,0,0,0,0,0,0,0,0,0,249,253,249,64,0,0,0,0,0,0,0,0,0,0,0,0,0,0,0,0,0,0,0,0,0,46,130,183,253,253,207,2,0,0,0,0,0,0,0,0,0,0,0,0,0,0,0,0,0,0,0,39,148,229,253,253,253,250,182,0,0,0,0,0,0,0,0,0,0,0,0,0,0,0,0,0,0,24,114,221,253,253,253,253,201,78,0,0,0,0,0,0,0,0,0,0,0,0,0,0,0,0,0,23,66,213,253,253,253,253,198,81,2,0,0,0,0,0,0,0,0,0,0,0,0,0,0,0,0,18,171,219,253,253,253,253,195,80,9,0,0,0,0,0,0,0,0,0,0,0,0,0,0,0,0,55,172,226,253,253,253,253,244,133,11,0,0,0,0,0,0,0,0,0,0,0,0,0,0,0,0,0,0,136,253,253,253,212,135,132,16,0,0,0,0,0,0,0,0,0,0,0,0,0,0,0,0,0,0,0,0,0,0,0,0,0,0,0,0,0,0,0,0,0,0,0,0,0,0,0,0,0,0,0,0,0,0,0,0,0,0,0,0,0,0,0,0,0,0,0,0,0,0,0,0,0,0,0,0,0,0,0,0,0,0,0,0,0,0,0,0,0,0,0,0,0,0,0,0,0,0,0,0,0,0,0,0,0,0,0,0\\n'"
      ]
     },
     "execution_count": 52,
     "metadata": {},
     "output_type": "execute_result"
    }
   ],
   "source": [
    "data_list[0]"
   ]
  },
  {
   "cell_type": "code",
   "execution_count": 53,
   "metadata": {},
   "outputs": [],
   "source": [
    "import numpy\n",
    "import matplotlib.pyplot \n",
    "%matplotlib inline"
   ]
  },
  {
   "cell_type": "code",
   "execution_count": 54,
   "metadata": {},
   "outputs": [
    {
     "data": {
      "text/plain": [
       "<matplotlib.image.AxesImage at 0x915d5c0>"
      ]
     },
     "execution_count": 54,
     "metadata": {},
     "output_type": "execute_result"
    },
    {
     "data": {
      "image/png": "[encoded data removed]",
      "text/plain": [
       "<Figure size 432x288 with 1 Axes>"
      ]
     },
     "metadata": {
      "needs_background": "light"
     },
     "output_type": "display_data"
    }
   ],
   "source": [
    "all_values = data_list[0].split(',')\n",
    "img_array = numpy.asfarray(all_values[1:]).reshape((28,28))\n",
    "#numpy.asfarray() — функция, преобразующая текстовые строки в реальные числа и создающая массив этих чисел.\n",
    "matplotlib.pyplot.imshow(img_array, cmap='Greys', interpolation='None')"
   ]
  },
  {
   "cell_type": "code",
   "execution_count": 55,
   "metadata": {},
   "outputs": [
    {
     "name": "stdout",
     "output_type": "stream",
     "text": [
      "[0.01       0.01       0.01       0.01       0.01       0.01\n",
      " 0.01       0.01       0.01       0.01       0.01       0.01\n",
      " 0.01       0.01       0.01       0.01       0.01       0.01\n",
      " 0.01       0.01       0.01       0.01       0.01       0.01\n",
      " 0.01       0.01       0.01       0.01       0.01       0.01\n",
      " 0.01       0.01       0.01       0.01       0.01       0.01\n",
      " 0.01       0.01       0.01       0.01       0.01       0.01\n",
      " 0.01       0.01       0.01       0.01       0.01       0.01\n",
      " 0.01       0.01       0.01       0.01       0.01       0.01\n",
      " 0.01       0.01       0.01       0.01       0.01       0.01\n",
      " 0.01       0.01       0.01       0.01       0.01       0.01\n",
      " 0.01       0.01       0.01       0.01       0.01       0.01\n",
      " 0.01       0.01       0.01       0.01       0.01       0.01\n",
      " 0.01       0.01       0.01       0.01       0.01       0.01\n",
      " 0.01       0.01       0.01       0.01       0.01       0.01\n",
      " 0.01       0.01       0.01       0.01       0.01       0.01\n",
      " 0.01       0.01       0.01       0.01       0.01       0.01\n",
      " 0.01       0.01       0.01       0.01       0.01       0.01\n",
      " 0.01       0.01       0.01       0.01       0.01       0.01\n",
      " 0.01       0.01       0.01       0.01       0.01       0.01\n",
      " 0.01       0.01       0.01       0.01       0.01       0.01\n",
      " 0.01       0.01       0.01       0.01       0.01       0.01\n",
      " 0.01       0.01       0.01       0.01       0.01       0.01\n",
      " 0.01       0.01       0.01       0.01       0.01       0.01\n",
      " 0.01       0.01       0.01       0.01       0.01       0.01\n",
      " 0.01       0.01       0.02164706 0.07988235 0.07988235 0.07988235\n",
      " 0.49917647 0.538      0.68941176 0.11094118 0.65447059 1.\n",
      " 0.96894118 0.50305882 0.01       0.01       0.01       0.01\n",
      " 0.01       0.01       0.01       0.01       0.01       0.01\n",
      " 0.01       0.01       0.12647059 0.14976471 0.37494118 0.60788235\n",
      " 0.67       0.99223529 0.99223529 0.99223529 0.99223529 0.99223529\n",
      " 0.88352941 0.67776471 0.99223529 0.94952941 0.76705882 0.25847059\n",
      " 0.01       0.01       0.01       0.01       0.01       0.01\n",
      " 0.01       0.01       0.01       0.01       0.01       0.20023529\n",
      " 0.934      0.99223529 0.99223529 0.99223529 0.99223529 0.99223529\n",
      " 0.99223529 0.99223529 0.99223529 0.98447059 0.37105882 0.32835294\n",
      " 0.32835294 0.22741176 0.16141176 0.01       0.01       0.01\n",
      " 0.01       0.01       0.01       0.01       0.01       0.01\n",
      " 0.01       0.01       0.01       0.07988235 0.86023529 0.99223529\n",
      " 0.99223529 0.99223529 0.99223529 0.99223529 0.77870588 0.71658824\n",
      " 0.96894118 0.94564706 0.01       0.01       0.01       0.01\n",
      " 0.01       0.01       0.01       0.01       0.01       0.01\n",
      " 0.01       0.01       0.01       0.01       0.01       0.01\n",
      " 0.01       0.01       0.32058824 0.61564706 0.42541176 0.99223529\n",
      " 0.99223529 0.80588235 0.05270588 0.01       0.17694118 0.60788235\n",
      " 0.01       0.01       0.01       0.01       0.01       0.01\n",
      " 0.01       0.01       0.01       0.01       0.01       0.01\n",
      " 0.01       0.01       0.01       0.01       0.01       0.01\n",
      " 0.01       0.06435294 0.01388235 0.60788235 0.99223529 0.35941176\n",
      " 0.01       0.01       0.01       0.01       0.01       0.01\n",
      " 0.01       0.01       0.01       0.01       0.01       0.01\n",
      " 0.01       0.01       0.01       0.01       0.01       0.01\n",
      " 0.01       0.01       0.01       0.01       0.01       0.01\n",
      " 0.01       0.54964706 0.99223529 0.74764706 0.01776471 0.01\n",
      " 0.01       0.01       0.01       0.01       0.01       0.01\n",
      " 0.01       0.01       0.01       0.01       0.01       0.01\n",
      " 0.01       0.01       0.01       0.01       0.01       0.01\n",
      " 0.01       0.01       0.01       0.01       0.01       0.05270588\n",
      " 0.74764706 0.99223529 0.28176471 0.01       0.01       0.01\n",
      " 0.01       0.01       0.01       0.01       0.01       0.01\n",
      " 0.01       0.01       0.01       0.01       0.01       0.01\n",
      " 0.01       0.01       0.01       0.01       0.01       0.01\n",
      " 0.01       0.01       0.01       0.01       0.14588235 0.94564706\n",
      " 0.88352941 0.63117647 0.42929412 0.01388235 0.01       0.01\n",
      " 0.01       0.01       0.01       0.01       0.01       0.01\n",
      " 0.01       0.01       0.01       0.01       0.01       0.01\n",
      " 0.01       0.01       0.01       0.01       0.01       0.01\n",
      " 0.01       0.01       0.01       0.32447059 0.94176471 0.99223529\n",
      " 0.99223529 0.472      0.10705882 0.01       0.01       0.01\n",
      " 0.01       0.01       0.01       0.01       0.01       0.01\n",
      " 0.01       0.01       0.01       0.01       0.01       0.01\n",
      " 0.01       0.01       0.01       0.01       0.01       0.01\n",
      " 0.01       0.01       0.18470588 0.73211765 0.99223529 0.99223529\n",
      " 0.59235294 0.11482353 0.01       0.01       0.01       0.01\n",
      " 0.01       0.01       0.01       0.01       0.01       0.01\n",
      " 0.01       0.01       0.01       0.01       0.01       0.01\n",
      " 0.01       0.01       0.01       0.01       0.01       0.01\n",
      " 0.01       0.07211765 0.37105882 0.98835294 0.99223529 0.736\n",
      " 0.01       0.01       0.01       0.01       0.01       0.01\n",
      " 0.01       0.01       0.01       0.01       0.01       0.01\n",
      " 0.01       0.01       0.01       0.01       0.01       0.01\n",
      " 0.01       0.01       0.01       0.01       0.01       0.01\n",
      " 0.01       0.97670588 0.99223529 0.97670588 0.25847059 0.01\n",
      " 0.01       0.01       0.01       0.01       0.01       0.01\n",
      " 0.01       0.01       0.01       0.01       0.01       0.01\n",
      " 0.01       0.01       0.01       0.01       0.01       0.01\n",
      " 0.01       0.01       0.18858824 0.51470588 0.72047059 0.99223529\n",
      " 0.99223529 0.81364706 0.01776471 0.01       0.01       0.01\n",
      " 0.01       0.01       0.01       0.01       0.01       0.01\n",
      " 0.01       0.01       0.01       0.01       0.01       0.01\n",
      " 0.01       0.01       0.01       0.01       0.16141176 0.58458824\n",
      " 0.89905882 0.99223529 0.99223529 0.99223529 0.98058824 0.71658824\n",
      " 0.01       0.01       0.01       0.01       0.01       0.01\n",
      " 0.01       0.01       0.01       0.01       0.01       0.01\n",
      " 0.01       0.01       0.01       0.01       0.01       0.01\n",
      " 0.10317647 0.45258824 0.868      0.99223529 0.99223529 0.99223529\n",
      " 0.99223529 0.79035294 0.31282353 0.01       0.01       0.01\n",
      " 0.01       0.01       0.01       0.01       0.01       0.01\n",
      " 0.01       0.01       0.01       0.01       0.01       0.01\n",
      " 0.01       0.01       0.09929412 0.26623529 0.83694118 0.99223529\n",
      " 0.99223529 0.99223529 0.99223529 0.77870588 0.32447059 0.01776471\n",
      " 0.01       0.01       0.01       0.01       0.01       0.01\n",
      " 0.01       0.01       0.01       0.01       0.01       0.01\n",
      " 0.01       0.01       0.01       0.01       0.07988235 0.67388235\n",
      " 0.86023529 0.99223529 0.99223529 0.99223529 0.99223529 0.76705882\n",
      " 0.32058824 0.04494118 0.01       0.01       0.01       0.01\n",
      " 0.01       0.01       0.01       0.01       0.01       0.01\n",
      " 0.01       0.01       0.01       0.01       0.01       0.01\n",
      " 0.22352941 0.67776471 0.88741176 0.99223529 0.99223529 0.99223529\n",
      " 0.99223529 0.95729412 0.52635294 0.05270588 0.01       0.01\n",
      " 0.01       0.01       0.01       0.01       0.01       0.01\n",
      " 0.01       0.01       0.01       0.01       0.01       0.01\n",
      " 0.01       0.01       0.01       0.01       0.538      0.99223529\n",
      " 0.99223529 0.99223529 0.83305882 0.53411765 0.52247059 0.07211765\n",
      " 0.01       0.01       0.01       0.01       0.01       0.01\n",
      " 0.01       0.01       0.01       0.01       0.01       0.01\n",
      " 0.01       0.01       0.01       0.01       0.01       0.01\n",
      " 0.01       0.01       0.01       0.01       0.01       0.01\n",
      " 0.01       0.01       0.01       0.01       0.01       0.01\n",
      " 0.01       0.01       0.01       0.01       0.01       0.01\n",
      " 0.01       0.01       0.01       0.01       0.01       0.01\n",
      " 0.01       0.01       0.01       0.01       0.01       0.01\n",
      " 0.01       0.01       0.01       0.01       0.01       0.01\n",
      " 0.01       0.01       0.01       0.01       0.01       0.01\n",
      " 0.01       0.01       0.01       0.01       0.01       0.01\n",
      " 0.01       0.01       0.01       0.01       0.01       0.01\n",
      " 0.01       0.01       0.01       0.01       0.01       0.01\n",
      " 0.01       0.01       0.01       0.01       0.01       0.01\n",
      " 0.01       0.01       0.01       0.01       0.01       0.01\n",
      " 0.01       0.01       0.01       0.01       0.01       0.01\n",
      " 0.01       0.01       0.01       0.01      ]\n"
     ]
    }
   ],
   "source": [
    "# привести входные значения к диапозону от 0.1 до 1.0\n",
    "scaled_input = (numpy.asfarray(all_values[1:]) / 255.0 * 0.99) + 0.01 \n",
    "print(scaled_input)"
   ]
  },
  {
   "cell_type": "code",
   "execution_count": 56,
   "metadata": {},
   "outputs": [
    {
     "name": "stdout",
     "output_type": "stream",
     "text": [
      "[0.01 0.01 0.01 0.01 0.01 0.99 0.01 0.01 0.01 0.01]\n"
     ]
    }
   ],
   "source": [
    "# целевые массивы для тренировки нейросети \n",
    "# количество выходных узлов - 10 (пример)\n",
    "outnodes = 10\n",
    "targets = numpy.zeros(outnodes) + 0.01 \n",
    "targets[int(all_values[0])]=0.99\n",
    "print(targets)"
   ]
  },
  {
   "cell_type": "code",
   "execution_count": 57,
   "metadata": {},
   "outputs": [],
   "source": [
    "# Код для создания 3-слойной нейронной сети вместе с кодом для ее обучения с помощью набора данных MNIST.\n",
    "import numpy\n",
    "import scipy.special # библиотека scipy.special содержит сигмоиду expit() \n",
    "import matplotlib.pyplot # библиотека для графического отображения массивов\n",
    "%matplotlib inline \n",
    "\n",
    "#определение класса нейронной сети\n",
    "class neuralNetwork:\n",
    "    # инициализация нейронной сети\n",
    "    def __init__(self, innodes, hidnodes, outnodes, learningrate):\n",
    "        # задать количество узлов во входном, скрытом и выходном слое\n",
    "        self.innodes = innodes\n",
    "        self.hidnodes = hidnodes\n",
    "        self.outnodes = outnodes\n",
    "        \n",
    "        # коэффициент обучаемости \n",
    "        self.learningrate = learningrate\n",
    "        \n",
    "        # Матрицы весовых коэффициентов связей wih и who.\n",
    "        #self.wih = numpy.random.normal(0.0, pow(self.innodes, -0.5), (self.hidnodes, innodes))\n",
    "        #self.who = numpy.random.normal(0.0, pow(self.hidnodes, -0.5), (self.outnodes, hidnodes))\n",
    "        self.wih=(numpy.random.rand(self.hidnodes, self.innodes)-0.5)\n",
    "        self.who=(numpy.random.rand(self.outnodes, self.hidnodes)-0.5)\n",
    "        \n",
    "        # функция активации\n",
    "        self.activation_function = lambda x: scipy.special.expit(x)\n",
    "        \n",
    "        # функция для обратного распознования\n",
    "        self.inverse_activation_function = lambda x: scipy.special.logit(x)\n",
    "        \n",
    "        pass\n",
    "    \n",
    "    # тренировка нейронной сети\n",
    "    def train(self, input_list, target_list):\n",
    "        # преобразование списка входных значений в двухмерный массив\n",
    "        inputs = numpy.array(input_list, ndmin = 2).T\n",
    "        targets = numpy.array(target_list, ndmin = 2).T\n",
    "        # рассчитать входящие сигналы для скрытого слоя\n",
    "        hidden_inputs = numpy.dot(self.wih, inputs)\n",
    "        # рассчитать исходящие сигналы для скрытого слоя \n",
    "        hidden_outs = self.activation_function(hidden_inputs)\n",
    "        # рассчитать входящие сигналы для выходного слоя \n",
    "        final_inputs = numpy.dot(self.who, hidden_outs)\n",
    "        # рассчитать исходящие сигналы для выходного слоя \n",
    "        final_outs = self.activation_function(final_inputs)\n",
    "        # ошибка выходного слоя = целевые - фактические значения\n",
    "        out_errors = targets - final_outs\n",
    "        # ошибки скрытого слоя - это ошибки output_errors, распределенные пропорционально весовым коэффициентам связей\n",
    "        # и рекомбинированные на скрытых узлах \n",
    "        hidden_errors = numpy.dot(self.who.T, out_errors)\n",
    "        # обновить весовые коэффициенты для связей между скрытым и выходным слоями\n",
    "        self.who += self.learningrate * numpy.dot((out_errors * final_outs*(1.0-final_outs)), numpy.transpose(hidden_outs))\n",
    "        # обновить весовые коэффициенты для связей между входным и скрытым слоями\n",
    "        self.wih += self.learningrate * numpy.dot((hidden_errors * hidden_outs * (1.0 - hidden_outs)), numpy.transpose(inputs))\n",
    "        \n",
    "        pass\n",
    "        \n",
    "    # опрос нейронной сети\n",
    "    def query(self, inputs_list):\n",
    "        # преобразовать список входных значений в двухмерный массив \n",
    "        inputs = numpy.array(inputs_list, ndmin=2).T\n",
    "        # рассчитать входящие сигналы для скрытого слоя \n",
    "        hidden_inputs = numpy.dot(self.wih, inputs) \n",
    "        # рассчитать исходящие сигналы для скрытого слоя \n",
    "        hidden_outputs = self.activation_function(hidden_inputs)\n",
    "        # рассчитать входящие сигналы для выходного слоя \n",
    "        final_inputs = numpy.dot(self.who, hidden_outputs)\n",
    "        # рассчитать исходящие сигналы для выходного слоя \n",
    "        final_outputs = self.activation_function(final_inputs) \n",
    "        return final_outputs\n",
    "    \n",
    "    # обратная работа нейронной сети\n",
    "    def backquery(self, target_list):\n",
    "        # транспонировать список целевых значений в двухмерный массив\n",
    "        final_outputs = numpy.array(target_list, ndmin=2).T\n",
    "        # рассчитать выходной сигнал для выходного слоя\n",
    "        final_inputs = self.inverse_activation_function(final_outputs)\n",
    "        # рассчитать входной сигнал для скрытого слоя \n",
    "        hidden_outputs = numpy.dot(self.who.T, final_inputs)\n",
    "        # масштабировать их к 0.01-0.99\n",
    "        hidden_outputs -= numpy.min(hidden_outputs)\n",
    "        hidden_outputs /= numpy.max(hidden_outputs)\n",
    "        hidden_outputs *= 0.98\n",
    "        hidden_outputs += 0.01\n",
    "        # рассчитать выходной сигнал для скрытого слоя \n",
    "        hidden_inputs = self.inverse_activation_function(hidden_outputs)\n",
    "        # рассчитать входной сигнал для входного слоя\n",
    "        inputs = numpy.dot(self.wih.T, hidden_inputs)\n",
    "        # масштабировать их к 0.01-0.99\n",
    "        inputs -= numpy.min(inputs)\n",
    "        inputs /= numpy.max(inputs)\n",
    "        inputs *= 0.98\n",
    "        inputs += 0.01\n",
    "        \n",
    "        return inputs"
   ]
  },
  {
   "cell_type": "code",
   "execution_count": 58,
   "metadata": {},
   "outputs": [],
   "source": [
    "# количество входных, скрытых и выходных узлов \n",
    "input_nodes = 784\n",
    "hidden_nodes = 200 # можно менять в опытках улучшить сеть\n",
    "output_nodes = 10\n",
    "# коэффициент обучения равен 0,1 - можно менять в попытках улучшить сеть\n",
    "learning_rate = 0.1\n",
    "# создать экземпляр нейронной сети\n",
    "n = neuralNetwork(input_nodes,hidden_nodes,output_nodes,learning_rate)\n",
    "# загрузить в список тестовый набор данных CSV-файла набора MNIST \n",
    "training_data_file = open('mnist_train_100.csv', 'r') \n",
    "training_data_list = training_data_file.readlines()\n",
    "training_data_file.close()"
   ]
  },
  {
   "cell_type": "code",
   "execution_count": 59,
   "metadata": {},
   "outputs": [],
   "source": [
    "# тренировка нейронной сети \n",
    "# перебрать все записи в тренировочном наборе данных \n",
    "for record in training_data_list:\n",
    "    # получить список значений, используя символы запятой (,) в качестве разделителей\n",
    "    all_values = record.split(',')\n",
    "    # масштабировать и сместить входные значения\n",
    "    inputs = (numpy.asfarray(all_values[1:])/255.0 * 0.99) + 0.01\n",
    "    # создать целевые выходные значения (все равны 0,01, за исключением\n",
    "    # желаемого маркерного значения, равного 0,99) \n",
    "    targets = numpy.zeros(output_nodes) + 0.01\n",
    "    # all_values[0] - целевое маркерное значение для данной записи \n",
    "    targets[int(all_values[0])] = 0.99\n",
    "    n.train(inputs, targets) \n",
    "    pass"
   ]
  },
  {
   "cell_type": "code",
   "execution_count": 60,
   "metadata": {},
   "outputs": [],
   "source": [
    "#загрузить в список тестовый набор данных \n",
    "test_data_file = open('mnist_test_10.csv', 'r')\n",
    "test_data_list = test_data_file.readlines()\n",
    "test_data_file.close()"
   ]
  },
  {
   "cell_type": "code",
   "execution_count": 61,
   "metadata": {},
   "outputs": [
    {
     "name": "stdout",
     "output_type": "stream",
     "text": [
      "7\n"
     ]
    }
   ],
   "source": [
    "# получить пеовую тестовую запись \n",
    "all_values = test_data_list[0].split(',')\n",
    "#вывести маркер\n",
    "print(all_values[0])"
   ]
  },
  {
   "cell_type": "code",
   "execution_count": 62,
   "metadata": {},
   "outputs": [
    {
     "data": {
      "text/plain": [
       "<matplotlib.image.AxesImage at 0x91ed5f8>"
      ]
     },
     "execution_count": 62,
     "metadata": {},
     "output_type": "execute_result"
    },
    {
     "data": {
      "image/png": "[encoded data removed]",
      "text/plain": [
       "<Figure size 432x288 with 1 Axes>"
      ]
     },
     "metadata": {
      "needs_background": "light"
     },
     "output_type": "display_data"
    }
   ],
   "source": [
    "img_array = numpy.asfarray(all_values[1:]).reshape((28,28))\n",
    "matplotlib.pyplot.imshow(img_array, cmap='Greys', interpolation='None')"
   ]
  },
  {
   "cell_type": "code",
   "execution_count": 63,
   "metadata": {},
   "outputs": [
    {
     "data": {
      "text/plain": [
       "array([[0.06330829],\n",
       "       [0.00629226],\n",
       "       [0.02304015],\n",
       "       [0.03446369],\n",
       "       [0.05074228],\n",
       "       [0.00655826],\n",
       "       [0.00148179],\n",
       "       [0.89440317],\n",
       "       [0.02378087],\n",
       "       [0.14157589]])"
      ]
     },
     "execution_count": 63,
     "metadata": {},
     "output_type": "execute_result"
    }
   ],
   "source": [
    "n.query((numpy.asfarray(all_values[1:])/255.0 * 0.99)+0.01)"
   ]
  },
  {
   "cell_type": "code",
   "execution_count": 64,
   "metadata": {},
   "outputs": [
    {
     "name": "stdout",
     "output_type": "stream",
     "text": [
      "7 истинный маркер\n",
      "7 ответ сети\n",
      "2 истинный маркер\n",
      "0 ответ сети\n",
      "1 истинный маркер\n",
      "1 ответ сети\n",
      "0 истинный маркер\n",
      "0 ответ сети\n",
      "4 истинный маркер\n",
      "4 ответ сети\n",
      "1 истинный маркер\n",
      "1 ответ сети\n",
      "4 истинный маркер\n",
      "9 ответ сети\n",
      "9 истинный маркер\n",
      "4 ответ сети\n",
      "5 истинный маркер\n",
      "4 ответ сети\n",
      "9 истинный маркер\n",
      "7 ответ сети\n",
      "[1, 0, 1, 1, 1, 1, 0, 0, 0, 0]\n"
     ]
    }
   ],
   "source": [
    "# тестирование нейронной сети\n",
    "\n",
    "# журнал оценок работы сети, первоначально пустой \n",
    "scorecard = []\n",
    "# перебрать все записи в тестовом наборе данных \n",
    "for record in test_data_list:\n",
    "    # получить список значений из записи, используя символы запятой (,) в качестве разделителей \n",
    "    all_values = record.split(',')\n",
    "    # правильный ответ - первое значение \n",
    "    correct_label = int(all_values[0]) \n",
    "    print(correct_label, \"истинный маркер\") \n",
    "    # масштабировать и сместить входные значения\n",
    "    inputs = (numpy.asfarray(all_values[1:]) / 255.0 * 0.99) + 0.01\n",
    "    # опрос сети\n",
    "    outputs = n.query(inputs) \n",
    "    # индекс наибольшего значения является маркерным значением \n",
    "    label = numpy.argmax(outputs)\n",
    "    print(label, \"ответ сети\")\n",
    "    # присоединить оценку ответа сети к концу списка \n",
    "    if (label == correct_label):\n",
    "        # в случае правильного ответа сети присоединить к списку значение 1 \n",
    "        scorecard.append(1)\n",
    "    else:\n",
    "        # в случае неправильного ответа сети присоединить к списку значение 0 \n",
    "        scorecard.append(0) \n",
    "        pass\n",
    "    pass\n",
    "\n",
    "print(scorecard)"
   ]
  },
  {
   "cell_type": "code",
   "execution_count": 65,
   "metadata": {},
   "outputs": [
    {
     "name": "stdout",
     "output_type": "stream",
     "text": [
      "эффективность =  0.5\n"
     ]
    }
   ],
   "source": [
    "# рассчитать показатель эффективности в виде доли правильных ответов \n",
    "scorecard_array = numpy.asarray(scorecard)\n",
    "print(\"эффективность = \", scorecard_array.sum()/scorecard_array.size)"
   ]
  },
  {
   "cell_type": "code",
   "execution_count": 66,
   "metadata": {},
   "outputs": [],
   "source": [
    "# (ДАННЫЙ КОД РАБОТАЕТ ТОЛЬКО ПРИ НАЛИЧИИ ФАЙЛА mnist_TRAIN.csv С ВЕСОМ БОЛЕЕ 25Мб) загрузить в список тренировочный набор данных CSV-файла набора MNIST \n",
    "import os\n",
    "os.chdir(\"C:/Users/den/Desktop/Data\") #путь к файлу\n",
    "training_data_file = open('mnist_TRAIN.csv', 'r') \n",
    "training_data_list = training_data_file.readlines()\n",
    "training_data_file.close()"
   ]
  },
  {
   "cell_type": "code",
   "execution_count": 67,
   "metadata": {},
   "outputs": [],
   "source": [
    "# тренировка нейронной сети \n",
    "# перебрать все записи в тренировочном наборе данных \n",
    "# переменная epochs указывает, сколько раз тренировочный набор данных используется для тренировки сети - улучшение результатов\n",
    "epochs = 5\n",
    "for е in range(epochs):\n",
    "    for record in training_data_list:\n",
    "        # получить список значений, используя символы запятой (,) в качестве разделителей\n",
    "        all_values = record.split(',')\n",
    "        # масштабировать и сместить входные значения\n",
    "        inputs = (numpy.asfarray(all_values[1:])/255.0 * 0.99) + 0.01\n",
    "        # создать целевые выходные значения (все равны 0,01, за исключением\n",
    "        # желаемого маркерного значения, равного 0,99) \n",
    "        targets = numpy.zeros(output_nodes) + 0.01\n",
    "        # all_values[0] - целевое маркерное значение для данной записи \n",
    "        targets[int(all_values[0])] = 0.99\n",
    "        n.train(inputs, targets) \n",
    "        pass\n",
    "    pass"
   ]
  },
  {
   "cell_type": "code",
   "execution_count": 87,
   "metadata": {},
   "outputs": [
    {
     "name": "stdout",
     "output_type": "stream",
     "text": [
      "эффективность =  0.9719\n"
     ]
    }
   ],
   "source": [
    "#загрузить в список тестовый набор данных \n",
    "test_data_file = open('mnist_TEST.csv', 'r')\n",
    "test_data_list = test_data_file.readlines()\n",
    "test_data_file.close()\n",
    "# тестирование нейронной сети\n",
    "\n",
    "# журнал оценок работы сети, первоначально пустой \n",
    "scorecard = []\n",
    "# перебрать все записи в тестовом наборе данных \n",
    "for record in test_data_list:\n",
    "    # получить список значений из записи, используя символы запятой (,) в качестве разделителей \n",
    "    all_values = record.split(',')\n",
    "    # правильный ответ - первое значение \n",
    "    correct_label = int(all_values[0]) \n",
    "    #print(correct_label, \"истинный маркер\") \n",
    "    # масштабировать и сместить входные значения\n",
    "    inputs = (numpy.asfarray(all_values[1:]) / 255.0 * 0.99) + 0.01\n",
    "    # опрос сети\n",
    "    outputs = n.query(inputs) \n",
    "    # индекс наибольшего значения является маркерным значением \n",
    "    label = numpy.argmax(outputs)\n",
    "    #print(label, \"ответ сети\")\n",
    "    # присоединить оценку ответа сети к концу списка \n",
    "    if (label == correct_label):\n",
    "        # в случае правильного ответа сети присоединить к списку значение 1 \n",
    "        scorecard.append(1)\n",
    "    else:\n",
    "        # в случае неправильного ответа сети присоединить к списку значение 0 \n",
    "        scorecard.append(0) \n",
    "        pass\n",
    "    pass\n",
    "\n",
    "#print(scorecard)\n",
    "# рассчитать показатель эффективности в виде доли правильных ответов \n",
    "scorecard_array = numpy.asarray(scorecard)\n",
    "print(\"эффективность = \", scorecard_array.sum()/scorecard_array.size)"
   ]
  },
  {
   "cell_type": "markdown",
   "metadata": {},
   "source": [
    "# Рукописный текст"
   ]
  },
  {
   "cell_type": "code",
   "execution_count": 69,
   "metadata": {},
   "outputs": [
    {
     "data": {
      "image/png": "[encoded data removed]",
      "text/plain": [
       "<Figure size 432x288 with 1 Axes>"
      ]
     },
     "metadata": {
      "needs_background": "light"
     },
     "output_type": "display_data"
    }
   ],
   "source": [
    "import imageio\n",
    "# Функция imread поможет в получении данных из файлов изображений, таких как PNG- и JPG-файлы. \n",
    "# Параметр flatten=True превращает изображение в массив чисел с плавающей запятой, \n",
    "# если изображение цветное, переводит цветовые коды в шкалу оттенков серого.\n",
    "img_array = imageio.imread('nine.png', as_gray=True) \n",
    "# Преобразуем квадратный массив размерностью 28x28 в длинный список значений, который нужен для передачи данных нейронной сети. \n",
    "# Необходимо сделать вычитание значений массива из 255, поскольку обычно коду 0 соответствует черный цвет, а коду 255 — белый\n",
    "# но в наборе данных MNIST используется обратная схема, в связи с чем нужно инвертировать цвета.\n",
    "img_data = 255.0 - img_array.reshape(784)\n",
    "matplotlib.pyplot.imshow(img_data.reshape((28,28)), cmap='Greys', interpolation='None')\n",
    "# Масштабирование данных, перевод их в диапазон значений от 0,01 до 1,0.\n",
    "img_data = (img_data / 255.0 * 0.99) + 0.01"
   ]
  },
  {
   "cell_type": "code",
   "execution_count": 83,
   "metadata": {},
   "outputs": [
    {
     "name": "stdout",
     "output_type": "stream",
     "text": [
      "[[0.02592091]\n",
      " [0.00356003]\n",
      " [0.01435291]\n",
      " [0.04457256]\n",
      " [0.00244943]\n",
      " [0.05925545]\n",
      " [0.00034832]\n",
      " [0.00070344]\n",
      " [0.00796959]\n",
      " [0.03031943]]\n",
      "Результат работы нейронной сети: 5\n"
     ]
    }
   ],
   "source": [
    "result=n.query(img_data)\n",
    "print(result)\n",
    "print('Результат работы нейронной сети:', numpy.argmax(result))"
   ]
  },
  {
   "cell_type": "code",
   "execution_count": 85,
   "metadata": {},
   "outputs": [
    {
     "name": "stdout",
     "output_type": "stream",
     "text": [
      "[[1.72657171e-02]\n",
      " [5.90949218e-03]\n",
      " [9.16973369e-03]\n",
      " [1.71411903e-02]\n",
      " [2.27459890e-03]\n",
      " [4.11803635e-02]\n",
      " [2.85602680e-04]\n",
      " [1.20626683e-03]\n",
      " [4.85979481e-03]\n",
      " [7.97165309e-01]]\n",
      "Результат работы нейронной сети: 9\n"
     ]
    }
   ],
   "source": [
    "# добавим новое тренировочное занчение\n",
    "targets = numpy.zeros(output_nodes) + 0.01\n",
    "targets[9] = 0.99\n",
    "n.train(img_data, targets) \n",
    "result=n.query(img_data)\n",
    "print(result)\n",
    "print('Результат работы нейронной сети:', numpy.argmax(result))"
   ]
  },
  {
   "cell_type": "code",
   "execution_count": 86,
   "metadata": {},
   "outputs": [
    {
     "name": "stdout",
     "output_type": "stream",
     "text": [
      "[0.99 0.01 0.01 0.01 0.01 0.01 0.01 0.01 0.01 0.01]\n",
      "[0.01 0.99 0.01 0.01 0.01 0.01 0.01 0.01 0.01 0.01]\n",
      "[0.01 0.01 0.99 0.01 0.01 0.01 0.01 0.01 0.01 0.01]\n",
      "[0.01 0.01 0.01 0.99 0.01 0.01 0.01 0.01 0.01 0.01]\n",
      "[0.01 0.01 0.01 0.01 0.99 0.01 0.01 0.01 0.01 0.01]\n",
      "[0.01 0.01 0.01 0.01 0.01 0.99 0.01 0.01 0.01 0.01]\n",
      "[0.01 0.01 0.01 0.01 0.01 0.01 0.99 0.01 0.01 0.01]\n",
      "[0.01 0.01 0.01 0.01 0.01 0.01 0.01 0.99 0.01 0.01]\n",
      "[0.01 0.01 0.01 0.01 0.01 0.01 0.01 0.01 0.99 0.01]\n",
      "[0.01 0.01 0.01 0.01 0.01 0.01 0.01 0.01 0.01 0.99]\n"
     ]
    },
    {
     "data": {
      "image/png": "[encoded data removed]",
      "text/plain": [
       "<Figure size 432x288 with 1 Axes>"
      ]
     },
     "metadata": {
      "needs_background": "light"
     },
     "output_type": "display_data"
    }
   ],
   "source": [
    "# запустить обратное распознание нейросети (предоставить номер и вывести его иозображение) \n",
    "for label in range(10): \n",
    "    # создать выходные сигналы для номера \n",
    "    targets = numpy.zeros(output_nodes) + 0.01\n",
    "    # желанный номер \n",
    "    targets[label] = 0.99\n",
    "    print(targets)\n",
    "    # получить изображение \n",
    "    image_data = n.backquery(targets)\n",
    "    # построить изображение \n",
    "    matplotlib.pyplot.imshow(image_data.reshape(28,28), cmap='Greys', interpolation='None')"
   ]
  },
  {
   "cell_type": "code",
   "execution_count": 88,
   "metadata": {},
   "outputs": [
    {
     "data": {
      "image/png": "[encoded data removed]",
      "text/plain": [
       "<Figure size 432x288 with 1 Axes>"
      ]
     },
     "metadata": {
      "needs_background": "light"
     },
     "output_type": "display_data"
    }
   ],
   "source": [
    "img_array = imageio.imread('seven.png', as_gray=True) \n",
    "img_data = 255.0 - img_array.reshape(784)\n",
    "matplotlib.pyplot.imshow(img_data.reshape((28,28)), cmap='Greys', interpolation='None')\n",
    "img_data = (img_data / 255.0 * 0.99) + 0.01"
   ]
  },
  {
   "cell_type": "code",
   "execution_count": 89,
   "metadata": {},
   "outputs": [
    {
     "name": "stdout",
     "output_type": "stream",
     "text": [
      "[[4.57562803e-05]\n",
      " [1.23382576e-03]\n",
      " [7.46580481e-03]\n",
      " [5.51680817e-03]\n",
      " [1.09552806e-04]\n",
      " [9.44168491e-03]\n",
      " [8.87752382e-06]\n",
      " [1.30315028e-01]\n",
      " [4.26516326e-07]\n",
      " [8.48385654e-05]]\n",
      "Результат работы нейронной сети: 7\n"
     ]
    }
   ],
   "source": [
    "result=n.query(img_data)\n",
    "print(result)\n",
    "print('Результат работы нейронной сети:', numpy.argmax(result))"
   ]
  },
  {
   "cell_type": "code",
   "execution_count": null,
   "metadata": {},
   "outputs": [],
   "source": []
  }
 ],
 "metadata": {
  "kernelspec": {
   "display_name": "Python 3",
   "language": "python",
   "name": "python3"
  },
  "language_info": {
   "codemirror_mode": {
    "name": "ipython",
    "version": 3
   },
   "file_extension": ".py",
   "mimetype": "text/x-python",
   "name": "python",
   "nbconvert_exporter": "python",
   "pygments_lexer": "ipython3",
   "version": "3.7.1"
  }
 },
 "nbformat": 4,
 "nbformat_minor": 2
}
